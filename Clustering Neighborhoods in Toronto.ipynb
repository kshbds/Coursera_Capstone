{
    "cells": [
        {
            "cell_type": "markdown",
            "metadata": {
                "collapsed": true
            },
            "source": "<h1>Clustering Neighborhoods in Toronto</h1>"
        },
        {
            "cell_type": "markdown",
            "metadata": {},
            "source": "Here we will explore, segment, and cluster the neighborhoods in the city of Toronto.\n\nFor the Toronto neighborhood data, a Wikipedia page exists that has all the information we need to explore and cluster the neighborhoods in Toronto. We will be required to scrape the Wikipedia page and wrangle the data, clean it, and then read it into a pandas dataframe so that it is in a structured format.\n\nOnce the data is in a structured format, we wll explore and cluster the neighborhoods in the city of Toronto."
        },
        {
            "cell_type": "markdown",
            "metadata": {},
            "source": "## Table of Contents\n\n1. <a href=\"#part1\">Scrape the Wikipedia web page to build a dataframe</a>\n2. <a href=\"#part2\">Get latitude & longitude details of the neighbourhoods and add to the dataframe</a>  \n3. <a href=\"#part3\">Explore and cluster the neighborhoods in Toronto</a>  "
        },
        {
            "cell_type": "markdown",
            "metadata": {},
            "source": "### 1. Scrape the Wikipedia web page to build a dataframe"
        },
        {
            "cell_type": "markdown",
            "metadata": {},
            "source": "_Import beautifulsoup and other required libraries to scrape the web page and load the data into a dataframe_"
        },
        {
            "cell_type": "code",
            "execution_count": 1,
            "metadata": {},
            "outputs": [],
            "source": "from bs4 import BeautifulSoup\nimport requests\nimport pandas as pd"
        },
        {
            "cell_type": "markdown",
            "metadata": {},
            "source": "_Scrape the webpage and create a Soup object_"
        },
        {
            "cell_type": "code",
            "execution_count": 2,
            "metadata": {},
            "outputs": [],
            "source": "source = requests.get('https://en.wikipedia.org/wiki/List_of_postal_codes_of_Canada:_M').text\n\nsoup = BeautifulSoup(source, 'lxml')"
        },
        {
            "cell_type": "markdown",
            "metadata": {},
            "source": "_Create a data frame with the webpage data_"
        },
        {
            "cell_type": "code",
            "execution_count": 112,
            "metadata": {
                "scrolled": false
            },
            "outputs": [
                {
                    "data": {
                        "text/html": "<div>\n<style scoped>\n    .dataframe tbody tr th:only-of-type {\n        vertical-align: middle;\n    }\n\n    .dataframe tbody tr th {\n        vertical-align: top;\n    }\n\n    .dataframe thead th {\n        text-align: right;\n    }\n</style>\n<table border=\"1\" class=\"dataframe\">\n  <thead>\n    <tr style=\"text-align: right;\">\n      <th></th>\n      <th>PostalCode</th>\n      <th>Borough</th>\n    </tr>\n  </thead>\n  <tbody>\n    <tr>\n      <th>0</th>\n      <td>M3A</td>\n      <td>North York(Parkwoods)</td>\n    </tr>\n    <tr>\n      <th>1</th>\n      <td>M4A</td>\n      <td>North York(Victoria Village)</td>\n    </tr>\n    <tr>\n      <th>2</th>\n      <td>M5A</td>\n      <td>Downtown Toronto(Regent Park / Harbourfront)</td>\n    </tr>\n    <tr>\n      <th>3</th>\n      <td>M6A</td>\n      <td>North York(Lawrence Manor / Lawrence Heights)</td>\n    </tr>\n    <tr>\n      <th>4</th>\n      <td>M7A</td>\n      <td>Queen's Park / Ontario Provincial Government</td>\n    </tr>\n    <tr>\n      <th>5</th>\n      <td>M9A</td>\n      <td>Etobicoke(Islington Avenue)</td>\n    </tr>\n    <tr>\n      <th>6</th>\n      <td>M1B</td>\n      <td>Scarborough(Malvern / Rouge)</td>\n    </tr>\n    <tr>\n      <th>7</th>\n      <td>M3B</td>\n      <td>North York(Don Mills)North</td>\n    </tr>\n    <tr>\n      <th>8</th>\n      <td>M4B</td>\n      <td>East York(Parkview Hill / Woodbine Gardens)</td>\n    </tr>\n    <tr>\n      <th>9</th>\n      <td>M5B</td>\n      <td>Downtown Toronto(Garden District, Ryerson)</td>\n    </tr>\n  </tbody>\n</table>\n</div>",
                        "text/plain": "  PostalCode                                        Borough\n0        M3A                          North York(Parkwoods)\n1        M4A                   North York(Victoria Village)\n2        M5A   Downtown Toronto(Regent Park / Harbourfront)\n3        M6A  North York(Lawrence Manor / Lawrence Heights)\n4        M7A   Queen's Park / Ontario Provincial Government\n5        M9A                    Etobicoke(Islington Avenue)\n6        M1B                   Scarborough(Malvern / Rouge)\n7        M3B                     North York(Don Mills)North\n8        M4B    East York(Parkview Hill / Woodbine Gardens)\n9        M5B     Downtown Toronto(Garden District, Ryerson)"
                    },
                    "execution_count": 112,
                    "metadata": {},
                    "output_type": "execute_result"
                }
            ],
            "source": "datatable = soup.find('div', class_ ='mw-parser-output').table\nacttable = datatable.find_all('td')\n\ncolumn_names = ['PostalCode', 'Borough']\ndf = pd.DataFrame(columns=column_names)\n\nfor td in acttable:\n    boroughNeigh = td.p.span.text\n    if boroughNeigh != \"Not assigned\":\n        pstcd = td.p.b.text\n        boroughNeigh = td.p.span.text\n        df = df.append({'PostalCode':pstcd, 'Borough':boroughNeigh}, ignore_index=True)\ndf.head(10)"
        },
        {
            "cell_type": "markdown",
            "metadata": {},
            "source": "_Wrangle the dataframe to correct format for analysis_"
        },
        {
            "cell_type": "code",
            "execution_count": 113,
            "metadata": {},
            "outputs": [],
            "source": "#The neighbourhood Queen's Park/Ontario Provincial Government with postal code M7A does not have any borough associated with it. So dropping this row.\n\ndf = df[df.PostalCode != 'M7A'].reset_index(drop=True)\n\n#Spliting the Borough column into Borough & Neighbourhood\ndf[\"Neighborhood\"] = df[\"Borough\"].str.split(pat='(', n=-1, expand=True)[1]\ndf[\"Neighborhood\"] = df[\"Neighborhood\"].str.split(pat=')', n=-1, expand=True)[0]\ndf[\"Borough\"] = df[\"Borough\"].str.split(pat='(', n=-1, expand=True)[0]\n\n#If there are multiple neighborhoods replace the separator  '/' with ','\ndf['Neighborhood'] = df['Neighborhood'].str.replace(' /', ',', n=-1)"
        },
        {
            "cell_type": "markdown",
            "metadata": {},
            "source": "_Grouping the data by Borough to check the different Boroughs and borough counts_"
        },
        {
            "cell_type": "code",
            "execution_count": 114,
            "metadata": {
                "scrolled": false
            },
            "outputs": [
                {
                    "data": {
                        "text/plain": "North York                                                      24\nDowntown Toronto                                                17\nScarborough                                                     17\nEtobicoke                                                       11\nCentral Toronto                                                  9\nWest Toronto                                                     6\nYork                                                             5\nEast York                                                        4\nEast Toronto                                                     4\nEast YorkEast Toronto                                            1\nDowntown TorontoStn A PO Boxes25 The Esplanade                   1\nMississaugaCanada Post Gateway Processing Centre                 1\nEast TorontoBusiness reply mail Processing Centre969 Eastern     1\nEtobicokeNorthwest                                               1\nName: Borough, dtype: int64"
                    },
                    "execution_count": 114,
                    "metadata": {},
                    "output_type": "execute_result"
                }
            ],
            "source": "df['Borough'].value_counts()"
        },
        {
            "cell_type": "markdown",
            "metadata": {},
            "source": "_We can see that for some boroughs only one record is there and the actual borough name also should be diffenet. So correcting the names like: \"East YorkEast Toronto\" to \"East York\", \"Downtown TorontoStn A PO Boxes25 The Esplanade\" to \"Downtown Toronto\" and so on depending on if the new borough has more than 1 count._"
        },
        {
            "cell_type": "code",
            "execution_count": 115,
            "metadata": {
                "scrolled": false
            },
            "outputs": [
                {
                    "data": {
                        "text/plain": "North York          24\nDowntown Toronto    18\nScarborough         17\nEtobicoke           12\nCentral Toronto      9\nWest Toronto         6\nEast York            5\nYork                 5\nEast Toronto         5\nMississauga          1\nName: Borough, dtype: int64"
                    },
                    "execution_count": 115,
                    "metadata": {},
                    "output_type": "execute_result"
                }
            ],
            "source": "df['Borough'].loc[34] = 'East York'\ndf['Borough'].loc[91] = 'Downtown Toronto'\ndf['Borough'].loc[75] = 'Mississauga'\ndf['Borough'].loc[99] = 'East Toronto'\ndf['Borough'].loc[93] = 'Etobicoke'\ndf['Borough'].value_counts()"
        },
        {
            "cell_type": "markdown",
            "metadata": {},
            "source": "_The formatted dataframe is displayed_"
        },
        {
            "cell_type": "code",
            "execution_count": 120,
            "metadata": {
                "scrolled": true
            },
            "outputs": [
                {
                    "data": {
                        "text/html": "<div>\n<style scoped>\n    .dataframe tbody tr th:only-of-type {\n        vertical-align: middle;\n    }\n\n    .dataframe tbody tr th {\n        vertical-align: top;\n    }\n\n    .dataframe thead th {\n        text-align: right;\n    }\n</style>\n<table border=\"1\" class=\"dataframe\">\n  <thead>\n    <tr style=\"text-align: right;\">\n      <th></th>\n      <th>PostalCode</th>\n      <th>Borough</th>\n      <th>Neighborhood</th>\n    </tr>\n  </thead>\n  <tbody>\n    <tr>\n      <th>0</th>\n      <td>M3A</td>\n      <td>North York</td>\n      <td>Parkwoods</td>\n    </tr>\n    <tr>\n      <th>1</th>\n      <td>M4A</td>\n      <td>North York</td>\n      <td>Victoria Village</td>\n    </tr>\n    <tr>\n      <th>2</th>\n      <td>M5A</td>\n      <td>Downtown Toronto</td>\n      <td>Regent Park, Harbourfront</td>\n    </tr>\n    <tr>\n      <th>3</th>\n      <td>M6A</td>\n      <td>North York</td>\n      <td>Lawrence Manor, Lawrence Heights</td>\n    </tr>\n    <tr>\n      <th>4</th>\n      <td>M9A</td>\n      <td>Etobicoke</td>\n      <td>Islington Avenue</td>\n    </tr>\n    <tr>\n      <th>5</th>\n      <td>M1B</td>\n      <td>Scarborough</td>\n      <td>Malvern, Rouge</td>\n    </tr>\n    <tr>\n      <th>6</th>\n      <td>M3B</td>\n      <td>North York</td>\n      <td>Don Mills</td>\n    </tr>\n    <tr>\n      <th>7</th>\n      <td>M4B</td>\n      <td>East York</td>\n      <td>Parkview Hill, Woodbine Gardens</td>\n    </tr>\n    <tr>\n      <th>8</th>\n      <td>M5B</td>\n      <td>Downtown Toronto</td>\n      <td>Garden District, Ryerson</td>\n    </tr>\n    <tr>\n      <th>9</th>\n      <td>M6B</td>\n      <td>North York</td>\n      <td>Glencairn</td>\n    </tr>\n  </tbody>\n</table>\n</div>",
                        "text/plain": "  PostalCode           Borough                      Neighborhood\n0        M3A        North York                         Parkwoods\n1        M4A        North York                  Victoria Village\n2        M5A  Downtown Toronto         Regent Park, Harbourfront\n3        M6A        North York  Lawrence Manor, Lawrence Heights\n4        M9A         Etobicoke                  Islington Avenue\n5        M1B       Scarborough                    Malvern, Rouge\n6        M3B        North York                         Don Mills\n7        M4B         East York   Parkview Hill, Woodbine Gardens\n8        M5B  Downtown Toronto          Garden District, Ryerson\n9        M6B        North York                         Glencairn"
                    },
                    "execution_count": 120,
                    "metadata": {},
                    "output_type": "execute_result"
                }
            ],
            "source": "df.head(10)"
        },
        {
            "cell_type": "markdown",
            "metadata": {},
            "source": "_Shape of the dataframe_"
        },
        {
            "cell_type": "code",
            "execution_count": 121,
            "metadata": {},
            "outputs": [
                {
                    "data": {
                        "text/plain": "(102, 3)"
                    },
                    "execution_count": 121,
                    "metadata": {},
                    "output_type": "execute_result"
                }
            ],
            "source": "df.shape"
        },
        {
            "cell_type": "markdown",
            "metadata": {},
            "source": "### 2. Get latitude & longitude details of the neighbourhoods and add to the dataframe"
        },
        {
            "cell_type": "code",
            "execution_count": null,
            "metadata": {},
            "outputs": [],
            "source": ""
        },
        {
            "cell_type": "code",
            "execution_count": null,
            "metadata": {},
            "outputs": [],
            "source": ""
        },
        {
            "cell_type": "code",
            "execution_count": null,
            "metadata": {},
            "outputs": [],
            "source": ""
        },
        {
            "cell_type": "markdown",
            "metadata": {},
            "source": "### 3. Explore and cluster the neighborhoods in Toronto"
        },
        {
            "cell_type": "code",
            "execution_count": null,
            "metadata": {},
            "outputs": [],
            "source": ""
        },
        {
            "cell_type": "code",
            "execution_count": null,
            "metadata": {},
            "outputs": [],
            "source": ""
        },
        {
            "cell_type": "code",
            "execution_count": null,
            "metadata": {},
            "outputs": [],
            "source": ""
        },
        {
            "cell_type": "code",
            "execution_count": null,
            "metadata": {},
            "outputs": [],
            "source": ""
        }
    ],
    "metadata": {
        "kernelspec": {
            "display_name": "Python 3.6",
            "language": "python",
            "name": "python3"
        },
        "language_info": {
            "codemirror_mode": {
                "name": "ipython",
                "version": 3
            },
            "file_extension": ".py",
            "mimetype": "text/x-python",
            "name": "python",
            "nbconvert_exporter": "python",
            "pygments_lexer": "ipython3",
            "version": "3.6.9"
        }
    },
    "nbformat": 4,
    "nbformat_minor": 1
}